{
 "cells": [
  {
   "cell_type": "markdown",
   "id": "771372e1-779a-4ce7-af8f-a97f9910b155",
   "metadata": {},
   "source": [
    "# State Preparation\n",
    "\n",
    "This demonstration shows how to prepare 5 states of 3 qubits each with only one shared auxiliary qubit (16 qubits in total)."
   ]
  },
  {
   "cell_type": "code",
   "execution_count": null,
   "id": "7ebfb632-7adc-4387-8876-575a5b95ae74",
   "metadata": {},
   "outputs": [],
   "source": [
    "from classiq.builtin_functions import StatePreparation\n",
    "from classiq.interface.generator.state_preparation import PMF\n",
    "\n",
    "probabilities = [0.4, 0.05, 0.2, 0.05, 0.3, 0.0, 0.0, 0.0]\n",
    "\n",
    "params = StatePreparation(\n",
    "    probabilities=PMF(pmf=probabilities),\n",
    "    num_qubits=4,\n",
    "    error_metric={\"KL\": {\"upper_bound\": 0.3}},\n",
    ")"
   ]
  },
  {
   "cell_type": "code",
   "execution_count": null,
   "id": "a756af33-e129-4083-bab2-aa3e30be5366",
   "metadata": {},
   "outputs": [],
   "source": [
    "from classiq import ModelDesigner\n",
    "from classiq.interface.generator.model.constraints import Constraints\n",
    "\n",
    "constraints = Constraints(max_width=16)\n",
    "model_designer = ModelDesigner(constraints=constraints)"
   ]
  },
  {
   "cell_type": "code",
   "execution_count": null,
   "id": "4a4905c9-1844-470b-91f8-e0c96bf2f469",
   "metadata": {},
   "outputs": [],
   "source": [
    "for _ in range(5):\n",
    "    model_designer.StatePreparation(params=params)"
   ]
  },
  {
   "cell_type": "code",
   "execution_count": null,
   "id": "3dfd10c5-5fa4-4b6d-a866-a9a79a1c3f9d",
   "metadata": {},
   "outputs": [],
   "source": [
    "# Generate the quantum circuit using Classiq's synthesis engine\n",
    "\n",
    "circuit = model_designer.synthesize()"
   ]
  },
  {
   "cell_type": "code",
   "execution_count": null,
   "id": "dc4de8b3-7c4a-4469-8487-d024077eb8e8",
   "metadata": {},
   "outputs": [],
   "source": [
    "circuit.show_interactive()"
   ]
  }
 ],
 "metadata": {
  "kernelspec": {
   "display_name": "Python 3 (ipykernel)",
   "language": "python",
   "name": "python3"
  },
  "language_info": {
   "codemirror_mode": {
    "name": "ipython",
    "version": 3
   },
   "file_extension": ".py",
   "mimetype": "text/x-python",
   "name": "python",
   "nbconvert_exporter": "python",
   "pygments_lexer": "ipython3",
   "version": "3.10.4"
  }
 },
 "nbformat": 4,
 "nbformat_minor": 5
}
